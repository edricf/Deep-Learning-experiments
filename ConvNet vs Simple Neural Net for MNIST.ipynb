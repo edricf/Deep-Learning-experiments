{
 "cells": [
  {
   "cell_type": "markdown",
   "metadata": {},
   "source": [
    "# Comparing a 3 Layer Neural Net against a <br> Convolutional Neural Net for MNIST"
   ]
  },
  {
   "cell_type": "code",
   "execution_count": 25,
   "metadata": {},
   "outputs": [],
   "source": [
    "import os\n",
    "\n",
    "import numpy as np\n",
    "from keras.models import Sequential\n",
    "from keras.layers import Dense, Activation, Dropout, Flatten, BatchNormalization\n",
    "from keras.layers import Conv2D, MaxPooling2D\n",
    "from keras.utils import np_utils\n",
    "from keras.optimizers import SGD\n",
    "from keras.datasets import mnist\n",
    "from keras.utils import to_categorical\n",
    "from keras.losses import categorical_crossentropy\n",
    "from keras.callbacks import EarlyStopping, ModelCheckpoint, TensorBoard\n",
    "from tensorflow.python.client import device_lib\n",
    "import tensorflow as tf\n",
    "import os\n",
    "\n",
    "import time"
   ]
  },
  {
   "cell_type": "markdown",
   "metadata": {},
   "source": [
    "# Preprocess"
   ]
  },
  {
   "cell_type": "code",
   "execution_count": 26,
   "metadata": {},
   "outputs": [],
   "source": [
    "(X_train, y_train), (X_test, y_test) = mnist.load_data()\n",
    "n_train, ndim1, ndim2 = X_train.shape\n",
    "n_test, _, _ = X_test.shape\n",
    "\n",
    "X_train = X_train.reshape(n_train, # Number of train\n",
    "                          ndim1, # Height\n",
    "                          ndim2, # Width\n",
    "                          1) # Depth\n",
    "\n",
    "X_test = X_test.reshape(n_test, # Number of train\n",
    "                          ndim1, # Height\n",
    "                          ndim2, # Width\n",
    "                          1) # Depth\n",
    "\n",
    "# one hot encode target values\n",
    "y_train = to_categorical(y_train)\n",
    "y_test = to_categorical(y_test)\n",
    "\n",
    "# convert from integers to floats\n",
    "X_train = X_train.astype('float32')\n",
    "X_test = X_test.astype('float32')\n",
    "\n",
    "# # normalize to range 0-1\n",
    "# X_train = X_train / 255.0\n",
    "# X_test = X_test / 255.0"
   ]
  },
  {
   "cell_type": "markdown",
   "metadata": {},
   "source": [
    "# Convolutional Neural Network"
   ]
  },
  {
   "cell_type": "code",
   "execution_count": 31,
   "metadata": {},
   "outputs": [
    {
     "name": "stdout",
     "output_type": "stream",
     "text": [
      "Model: \"sequential_10\"\n",
      "_________________________________________________________________\n",
      "Layer (type)                 Output Shape              Param #   \n",
      "=================================================================\n",
      "conv2d_12 (Conv2D)           (None, 26, 26, 32)        320       \n",
      "_________________________________________________________________\n",
      "batch_normalization_2 (Batch (None, 26, 26, 32)        128       \n",
      "_________________________________________________________________\n",
      "max_pooling2d_5 (MaxPooling2 (None, 13, 13, 32)        0         \n",
      "_________________________________________________________________\n",
      "conv2d_13 (Conv2D)           (None, 11, 11, 64)        18496     \n",
      "_________________________________________________________________\n",
      "batch_normalization_3 (Batch (None, 11, 11, 64)        256       \n",
      "_________________________________________________________________\n",
      "flatten_5 (Flatten)          (None, 7744)              0         \n",
      "_________________________________________________________________\n",
      "dense_8 (Dense)              (None, 10)                77450     \n",
      "=================================================================\n",
      "Total params: 96,650\n",
      "Trainable params: 96,458\n",
      "Non-trainable params: 192\n",
      "_________________________________________________________________\n"
     ]
    }
   ],
   "source": [
    "model = Sequential()\n",
    "model.add(Conv2D(filters = 32,\n",
    "                 kernel_size = (3, 3),\n",
    "                 input_shape=(ndim1, ndim2, 1),\n",
    "                 activation = 'relu'))\n",
    "model.add(BatchNormalization())\n",
    "model.add(MaxPooling2D((2, 2))) # Reduce dimensions for next layer\n",
    "model.add(Conv2D(filters = 64,\n",
    "                 kernel_size = (3, 3),\n",
    "                 activation = 'relu'))\n",
    "model.add(BatchNormalization())\n",
    "model.add(Flatten())\n",
    "model.add(Dense(10, activation='softmax'))\n",
    "\n",
    "model.summary() # 96,266 params"
   ]
  },
  {
   "cell_type": "code",
   "execution_count": 39,
   "metadata": {},
   "outputs": [
    {
     "name": "stdout",
     "output_type": "stream",
     "text": [
      "Train on 42000 samples, validate on 18000 samples\n",
      "Epoch 1/100\n",
      "42000/42000 [==============================] - 11s 263us/step - loss: 0.0112 - accuracy: 0.9983 - val_loss: 0.0480 - val_accuracy: 0.9853\n",
      "Epoch 2/100\n",
      "42000/42000 [==============================] - 10s 242us/step - loss: 0.0093 - accuracy: 0.9989 - val_loss: 0.0558 - val_accuracy: 0.9836\n",
      "Epoch 3/100\n",
      "42000/42000 [==============================] - 10s 245us/step - loss: 0.0079 - accuracy: 0.9993 - val_loss: 0.0478 - val_accuracy: 0.9857\n",
      "Restoring model weights from the end of the best epoch\n",
      "Epoch 00003: early stopping\n",
      "--- 33.37652111053467 seconds ---\n"
     ]
    }
   ],
   "source": [
    "start_time = time.time()\n",
    "\n",
    "# Set Optimizer/Loss\n",
    "optimizer = SGD(learning_rate=0.01,\n",
    "                momentum = 0.2)\n",
    "\n",
    "metrics = ['accuracy']\n",
    "\n",
    "loss = categorical_crossentropy\n",
    "\n",
    "model.compile(loss = loss,\n",
    "              optimizer=optimizer,\n",
    "              metrics=metrics)\n",
    "\n",
    "# Set Callbacks / Early Stopping    \n",
    "logdir = 'logs'\n",
    "if not os.path.exists(logdir):\n",
    "    os.makedirs(logdir)\n",
    "\n",
    "model_path = os.path.join(logdir,\n",
    "                          'model.{epoch:02d}-{val_loss:.2f}.h5')\n",
    "\n",
    "callbacks = [\n",
    "             EarlyStopping(monitor='val_loss',\n",
    "                           patience=2,\n",
    "                           min_delta=1e-3,\n",
    "                           restore_best_weights=True,\n",
    "                           verbose = 1),\n",
    "    \n",
    "             ModelCheckpoint(filepath=model_path,\n",
    "                             monitor='val_loss', \n",
    "                             save_best_only=True),\n",
    "            TensorBoard(log_dir=logdir,\n",
    "                        histogram_freq=1),\n",
    "            ]\n",
    "\n",
    "\n",
    "batch_size = 64\n",
    "epochs = 100\n",
    "validation_split = 0.3\n",
    "verbose = 1 # Print output\n",
    "\n",
    "# Fit to training Data\n",
    "history = model.fit(X_train,\n",
    "                    y_train,\n",
    "                    batch_size = batch_size,\n",
    "                    epochs = epochs,\n",
    "                    validation_split = validation_split,\n",
    "                    callbacks = callbacks,\n",
    "                    verbose = verbose)\n",
    "\n",
    "print(\"--- %s seconds ---\" % (time.time() - start_time))"
   ]
  },
  {
   "cell_type": "code",
   "execution_count": 41,
   "metadata": {},
   "outputs": [
    {
     "data": {
      "text/plain": [
       "<matplotlib.legend.Legend at 0x16df2e31fd0>"
      ]
     },
     "execution_count": 41,
     "metadata": {},
     "output_type": "execute_result"
    },
    {
     "data": {
      "image/png": "[encoded data removed]",
      "text/plain": [
       "<Figure size 2160x360 with 2 Axes>"
      ]
     },
     "metadata": {
      "needs_background": "light"
     },
     "output_type": "display_data"
    }
   ],
   "source": [
    "import matplotlib.pyplot as plt\n",
    "\n",
    "f, (ax1, ax2) = plt.subplots(1, 2, figsize=(30,5))\n",
    "\n",
    "# summarize history for accuracy\n",
    "ax1.plot(history.history['accuracy'], marker='o')\n",
    "ax1.plot(history.history['val_accuracy'], marker='o')\n",
    "ax1.set_title('model accuracy')\n",
    "ax1.set_ylabel('accuracy')\n",
    "ax1.set_xlabel('epoch')\n",
    "ax1.legend(['train', 'test'], loc='upper left')\n",
    "\n",
    "# summarize history for loss\n",
    "ax2.plot(history.history['loss'], marker='o')\n",
    "ax2.plot(history.history['val_loss'], marker='o')\n",
    "ax2.set_title('model loss')\n",
    "ax2.set_ylabel('loss')\n",
    "ax2.set_xlabel('epoch')\n",
    "ax2.legend(['train', 'test'], loc='upper left')"
   ]
  },
  {
   "cell_type": "code",
   "execution_count": 48,
   "metadata": {},
   "outputs": [
    {
     "name": "stdout",
     "output_type": "stream",
     "text": [
      "Train Accuracy: 99.477, Test Accuracy: 98.760\n",
      "Margin: 0.7166624069213867\n"
     ]
    }
   ],
   "source": [
    "train_loss, train_acc = model.evaluate(X_train, \n",
    "                                       y_train,\n",
    "                                       verbose=0)\n",
    "\n",
    "test_loss, test_acc = model.evaluate(X_test,\n",
    "                                     y_test,\n",
    "                                     verbose=0)\n",
    "\n",
    "print('Train Accuracy: %.3f, Test Accuracy: %.3f' % (train_acc*100, test_acc*100))\n",
    "print('Margin: {}'.format((train_acc-test_acc)*100))"
   ]
  },
  {
   "cell_type": "code",
   "execution_count": 56,
   "metadata": {},
   "outputs": [],
   "source": [
    "# Tensorboard\n",
    "# %load_ext tensorboard\n",
    "# %tensorboard --logdir logs"
   ]
  },
  {
   "cell_type": "markdown",
   "metadata": {},
   "source": [
    "# Simple Neural Network"
   ]
  },
  {
   "cell_type": "code",
   "execution_count": 51,
   "metadata": {},
   "outputs": [
    {
     "name": "stdout",
     "output_type": "stream",
     "text": [
      "Model: \"sequential_13\"\n",
      "_________________________________________________________________\n",
      "Layer (type)                 Output Shape              Param #   \n",
      "=================================================================\n",
      "flatten_8 (Flatten)          (None, 784)               0         \n",
      "_________________________________________________________________\n",
      "dense_16 (Dense)             (None, 64)                50240     \n",
      "_________________________________________________________________\n",
      "batch_normalization_8 (Batch (None, 64)                256       \n",
      "_________________________________________________________________\n",
      "dense_17 (Dense)             (None, 128)               8320      \n",
      "_________________________________________________________________\n",
      "batch_normalization_9 (Batch (None, 128)               512       \n",
      "_________________________________________________________________\n",
      "dropout_3 (Dropout)          (None, 128)               0         \n",
      "_________________________________________________________________\n",
      "dense_18 (Dense)             (None, 64)                8256      \n",
      "_________________________________________________________________\n",
      "dense_19 (Dense)             (None, 10)                650       \n",
      "=================================================================\n",
      "Total params: 68,234\n",
      "Trainable params: 67,850\n",
      "Non-trainable params: 384\n",
      "_________________________________________________________________\n",
      "Train on 42000 samples, validate on 18000 samples\n",
      "Epoch 1/100\n",
      "42000/42000 [==============================] - 7s 160us/step - loss: 0.6180 - accuracy: 0.8160 - val_loss: 0.2685 - val_accuracy: 0.9217\n",
      "Epoch 2/100\n",
      "42000/42000 [==============================] - 6s 148us/step - loss: 0.2829 - accuracy: 0.9174 - val_loss: 0.2077 - val_accuracy: 0.9373\n",
      "Epoch 3/100\n",
      "42000/42000 [==============================] - 7s 164us/step - loss: 0.2220 - accuracy: 0.9350 - val_loss: 0.1797 - val_accuracy: 0.9452\n",
      "Epoch 4/100\n",
      "42000/42000 [==============================] - 6s 133us/step - loss: 0.1919 - accuracy: 0.9438 - val_loss: 0.1535 - val_accuracy: 0.9547\n",
      "Epoch 5/100\n",
      "42000/42000 [==============================] - 6s 139us/step - loss: 0.1684 - accuracy: 0.9497 - val_loss: 0.1452 - val_accuracy: 0.9571\n",
      "Epoch 6/100\n",
      "42000/42000 [==============================] - 5s 126us/step - loss: 0.1501 - accuracy: 0.9548 - val_loss: 0.1385 - val_accuracy: 0.9587\n",
      "Epoch 7/100\n",
      "42000/42000 [==============================] - 5s 121us/step - loss: 0.1368 - accuracy: 0.9584 - val_loss: 0.1452 - val_accuracy: 0.9570\n",
      "Restoring model weights from the end of the best epoch\n",
      "Epoch 00007: early stopping\n",
      "--- 44.34156131744385 seconds ---\n"
     ]
    }
   ],
   "source": [
    "# Create Neural Network Architecture 3 - Layer Deep Neural Network\n",
    "start_time = time.time()\n",
    "\n",
    "model = Sequential()\n",
    "model.add(Flatten(input_shape=(ndim1, ndim2, 1)))\n",
    "model.add(Dense(64, activation='relu'))\n",
    "model.add(BatchNormalization())\n",
    "model.add(Dense(128, activation='relu'))\n",
    "model.add(BatchNormalization())\n",
    "model.add(Dropout(0.2))\n",
    "model.add(Dense(64, activation='relu'))\n",
    "model.add(Dense(10, activation='softmax'))\n",
    "model.summary()\n",
    "\n",
    "# Set Optimizer/Loss\n",
    "optimizer = SGD(learning_rate=0.01,\n",
    "                momentum = 0.2)\n",
    "\n",
    "metrics = ['accuracy']\n",
    "\n",
    "loss = categorical_crossentropy\n",
    "\n",
    "model.compile(loss = loss,\n",
    "              optimizer=optimizer,\n",
    "              metrics=metrics)\n",
    "\n",
    "# Set Callbacks / Early Stopping    \n",
    "logdir = 'logs'\n",
    "if not os.path.exists(logdir):\n",
    "    os.makedirs(logdir)\n",
    "\n",
    "model_path = os.path.join(logdir,\n",
    "                          'model.{epoch:02d}-{val_loss:.2f}.h5')\n",
    "\n",
    "callbacks = [\n",
    "             EarlyStopping(monitor='val_loss',\n",
    "                           patience=1,\n",
    "                           min_delta=1e-3,\n",
    "                           restore_best_weights=True,\n",
    "                           verbose = 1),\n",
    "    \n",
    "             ModelCheckpoint(filepath=model_path,\n",
    "                             monitor='val_loss', \n",
    "                             save_best_only=True),\n",
    "            TensorBoard(log_dir=logdir,\n",
    "                        histogram_freq=1),\n",
    "            ]\n",
    "\n",
    "\n",
    "batch_size = 64\n",
    "epochs = 100\n",
    "validation_split = 0.3\n",
    "verbose = 1 # Print output\n",
    "\n",
    "# Fit to training Data\n",
    "history = model.fit(X_train,\n",
    "                    y_train,\n",
    "                    batch_size = batch_size,\n",
    "                    epochs = epochs,\n",
    "                    validation_split = validation_split,\n",
    "                    callbacks = callbacks,\n",
    "                    verbose = verbose)\n",
    "print(\"--- %s seconds ---\" % (time.time() - start_time))"
   ]
  },
  {
   "cell_type": "code",
   "execution_count": 52,
   "metadata": {},
   "outputs": [
    {
     "data": {
      "text/plain": [
       "<matplotlib.legend.Legend at 0x16e036b2080>"
      ]
     },
     "execution_count": 52,
     "metadata": {},
     "output_type": "execute_result"
    },
    {
     "data": {
      "image/png": "[encoded data removed]",
      "text/plain": [
       "<Figure size 2160x360 with 2 Axes>"
      ]
     },
     "metadata": {
      "needs_background": "light"
     },
     "output_type": "display_data"
    }
   ],
   "source": [
    "f, (ax1, ax2) = plt.subplots(1, 2, figsize=(30,5))\n",
    "\n",
    "# summarize history for accuracy\n",
    "ax1.plot(history.history['accuracy'], marker='o')\n",
    "ax1.plot(history.history['val_accuracy'], marker='o')\n",
    "ax1.set_title('model accuracy')\n",
    "ax1.set_ylabel('accuracy')\n",
    "ax1.set_xlabel('epoch')\n",
    "ax1.legend(['train', 'test'], loc='upper left')\n",
    "\n",
    "# summarize history for loss\n",
    "ax2.plot(history.history['loss'], marker='o')\n",
    "ax2.plot(history.history['val_loss'], marker='o')\n",
    "ax2.set_title('model loss')\n",
    "ax2.set_ylabel('loss')\n",
    "ax2.set_xlabel('epoch')\n",
    "ax2.legend(['train', 'test'], loc='upper left')"
   ]
  },
  {
   "cell_type": "code",
   "execution_count": 53,
   "metadata": {},
   "outputs": [
    {
     "name": "stdout",
     "output_type": "stream",
     "text": [
      "Train Accuracy: 96.727, Test Accuracy: 95.920\n",
      "Margin: 0.8066654205322266\n"
     ]
    }
   ],
   "source": [
    "train_loss, train_acc = model.evaluate(X_train, \n",
    "                                       y_train,\n",
    "                                       verbose=0)\n",
    "\n",
    "test_loss, test_acc = model.evaluate(X_test,\n",
    "                                     y_test,\n",
    "                                     verbose=0)\n",
    "\n",
    "print('Train Accuracy: %.3f, Test Accuracy: %.3f' % (train_acc*100, test_acc*100))\n",
    "print('Margin: {}'.format((train_acc-test_acc)*100))"
   ]
  },
  {
   "cell_type": "markdown",
   "metadata": {},
   "source": [
    "Comparing the Train and Test Accuracies, <br>\n",
    "We can see that Convolutional Neural Networks takes less iteration and less time <br>\n",
    "with greater accuracy than a Standard Neural Network"
   ]
  }
 ],
 "metadata": {
  "kernelspec": {
   "display_name": "Python 3",
   "language": "python",
   "name": "python3"
  },
  "language_info": {
   "codemirror_mode": {
    "name": "ipython",
    "version": 3
   },
   "file_extension": ".py",
   "mimetype": "text/x-python",
   "name": "python",
   "nbconvert_exporter": "python",
   "pygments_lexer": "ipython3",
   "version": "3.6.4"
  }
 },
 "nbformat": 4,
 "nbformat_minor": 2
}
