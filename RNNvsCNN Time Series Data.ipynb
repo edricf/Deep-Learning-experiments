{
 "cells": [
  {
   "cell_type": "markdown",
   "metadata": {},
   "source": [
    "# Forecasting stock prices using RNN (LSTM) vs. CNN"
   ]
  },
  {
   "cell_type": "code",
   "execution_count": 118,
   "metadata": {},
   "outputs": [],
   "source": [
    "import pandas as pd\n",
    "import pandas_datareader.data as web\n",
    "import os\n",
    "import datetime as dt\n",
    "\n",
    "from keras.callbacks import EarlyStopping, ModelCheckpoint, TensorBoard\n",
    "from keras.models import Model, Sequential\n",
    "from keras.layers import Dense, Input, Flatten\n",
    "from keras.layers import LSTM, Conv1D, BatchNormalization\n",
    "from keras.optimizers import Adam\n",
    "from sklearn.model_selection import train_test_split\n",
    "\n",
    "import numpy as np\n",
    "import matplotlib.pyplot as plt"
   ]
  },
  {
   "cell_type": "code",
   "execution_count": 119,
   "metadata": {},
   "outputs": [],
   "source": [
    "start = dt.datetime(2018, 1, 1)\n",
    "end = dt.datetime(2020, 7, 3)\n",
    "df = web.DataReader('^GSPC', 'yahoo', start, end)\n",
    "df.reset_index(inplace=True)\n",
    "df = df[['Date', 'Adj Close']]"
   ]
  },
  {
   "cell_type": "code",
   "execution_count": 120,
   "metadata": {},
   "outputs": [],
   "source": [
    "df.set_index('Date', inplace=True)\n",
    "df['log_returns'] = np.log(df['Adj Close']) - np.log(df['Adj Close'].shift(1))\n",
    "df['net_returns'] = np.exp(df['log_returns']) - 1"
   ]
  },
  {
   "cell_type": "code",
   "execution_count": 121,
   "metadata": {},
   "outputs": [
    {
     "data": {
      "text/plain": [
       "Text(0, 0.5, 'Closing Prices')"
      ]
     },
     "execution_count": 121,
     "metadata": {},
     "output_type": "execute_result"
    },
    {
     "data": {
      "image/png": "[encoded data removed]",
      "text/plain": [
       "<Figure size 432x288 with 1 Axes>"
      ]
     },
     "metadata": {
      "needs_background": "light"
     },
     "output_type": "display_data"
    }
   ],
   "source": [
    "plt.plot(df['Adj Close'])\n",
    "plt.title('Adjusted Closing Prices of S&P 500')\n",
    "plt.xticks(rotation='vertical')\n",
    "plt.xlabel('Date')\n",
    "plt.ylabel('Closing Prices')"
   ]
  },
  {
   "cell_type": "markdown",
   "metadata": {},
   "source": [
    "# Preprocessing"
   ]
  },
  {
   "cell_type": "code",
   "execution_count": 122,
   "metadata": {},
   "outputs": [],
   "source": [
    "# split a univariate sequence into samples\n",
    "def split_sequence(sequence, n_steps):\n",
    "    '''\n",
    "    args:\n",
    "    - sequence dataframe/array: data\n",
    "    -n_steps int: number of time steps used to predict\n",
    "    Function to Preprocess time series data into\n",
    "    n_steps columns\n",
    "    \n",
    "    Credits for function:\n",
    "    https://machinelearningmastery.com/how-to-develop-lstm-models-for-time-series-forecasting/\n",
    "    '''\n",
    "    X, y = list(), list()\n",
    "    for i in range(len(sequence)):\n",
    "        # find the end of this pattern\n",
    "        end_ix = i + n_steps\n",
    "        # check if we are beyond the sequence\n",
    "        if end_ix > len(sequence)-1:\n",
    "            break\n",
    "        # gather input and output parts of the pattern\n",
    "        seq_x, seq_y = sequence[i:end_ix], sequence[end_ix]\n",
    "        X.append(seq_x)\n",
    "        y.append(seq_y)\n",
    "    return np.array(X), np.array(y)"
   ]
  },
  {
   "cell_type": "code",
   "execution_count": 123,
   "metadata": {},
   "outputs": [],
   "source": [
    "# choose a number of time steps\n",
    "n_steps = 3\n",
    "# split into samples\n",
    "X, y = split_sequence(df['Adj Close'], n_steps)"
   ]
  },
  {
   "cell_type": "code",
   "execution_count": 124,
   "metadata": {},
   "outputs": [],
   "source": [
    "n_data, n_steps = X.shape\n",
    "n_features = 1\n",
    "\n",
    "X = X.reshape((n_data, n_steps, n_features))"
   ]
  },
  {
   "cell_type": "code",
   "execution_count": 125,
   "metadata": {},
   "outputs": [],
   "source": [
    "x_train, x_test, y_train, y_test = train_test_split(X, y, test_size=0.2)"
   ]
  },
  {
   "cell_type": "markdown",
   "metadata": {},
   "source": [
    "# 3 Layer LSTM"
   ]
  },
  {
   "cell_type": "code",
   "execution_count": 126,
   "metadata": {},
   "outputs": [
    {
     "name": "stdout",
     "output_type": "stream",
     "text": [
      "Model: \"sequential_27\"\n",
      "_________________________________________________________________\n",
      "Layer (type)                 Output Shape              Param #   \n",
      "=================================================================\n",
      "lstm_22 (LSTM)               (None, 3, 50)             10400     \n",
      "_________________________________________________________________\n",
      "lstm_23 (LSTM)               (None, 50)                20200     \n",
      "_________________________________________________________________\n",
      "dense_18 (Dense)             (None, 1)                 51        \n",
      "=================================================================\n",
      "Total params: 30,651\n",
      "Trainable params: 30,651\n",
      "Non-trainable params: 0\n",
      "_________________________________________________________________\n"
     ]
    }
   ],
   "source": [
    "n_features = 1\n",
    "# define model\n",
    "model = Sequential()\n",
    "model.add(LSTM(50, activation='relu', return_sequences=True, input_shape=(n_steps, n_features)))\n",
    "model.add(LSTM(50, activation='relu'))\n",
    "model.add(Dense(1))\n",
    "model.summary()"
   ]
  },
  {
   "cell_type": "code",
   "execution_count": 127,
   "metadata": {},
   "outputs": [],
   "source": [
    "opt = Adam(learning_rate=0.01,\n",
    "           epsilon=1e-07)\n",
    "\n",
    "model.compile(optimizer=opt,\n",
    "              loss='mse')"
   ]
  },
  {
   "cell_type": "code",
   "execution_count": 128,
   "metadata": {},
   "outputs": [
    {
     "name": "stdout",
     "output_type": "stream",
     "text": [
      "Train on 350 samples, validate on 151 samples\n",
      "Epoch 1/100\n",
      "350/350 [==============================] - 1s 3ms/step - loss: 7386624.4771 - val_loss: 4948667.9437\n",
      "Epoch 2/100\n",
      "350/350 [==============================] - 0s 291us/step - loss: 2942105.7605 - val_loss: 26050.5580\n",
      "Epoch 3/100\n",
      "350/350 [==============================] - 0s 284us/step - loss: 592571.9982 - val_loss: 401976.2454\n",
      "Epoch 4/100\n",
      "350/350 [==============================] - 0s 261us/step - loss: 141083.3515 - val_loss: 232870.2583\n",
      "Epoch 5/100\n",
      "350/350 [==============================] - 0s 301us/step - loss: 207342.8384 - val_loss: 39014.2132\n",
      "Epoch 6/100\n",
      "350/350 [==============================] - 0s 338us/step - loss: 26337.0387 - val_loss: 75289.4637\n",
      "Epoch 7/100\n",
      "350/350 [==============================] - 0s 353us/step - loss: 46869.8196 - val_loss: 4797.6557\n",
      "Epoch 8/100\n",
      "350/350 [==============================] - 0s 304us/step - loss: 20830.9514 - val_loss: 22249.3925\n",
      "Epoch 9/100\n",
      "350/350 [==============================] - 0s 285us/step - loss: 9560.1503 - val_loss: 9379.5277\n",
      "Epoch 10/100\n",
      "350/350 [==============================] - 0s 251us/step - loss: 10606.6574 - val_loss: 2826.3288\n",
      "Epoch 11/100\n",
      "350/350 [==============================] - 0s 245us/step - loss: 5240.8893 - val_loss: 6896.4544\n",
      "Epoch 12/100\n",
      "350/350 [==============================] - 0s 265us/step - loss: 4213.3371 - val_loss: 3754.5032\n",
      "Epoch 13/100\n",
      "350/350 [==============================] - 0s 336us/step - loss: 4456.2244 - val_loss: 2752.7733\n",
      "Epoch 14/100\n",
      "350/350 [==============================] - 0s 325us/step - loss: 3436.8842 - val_loss: 3582.4732\n",
      "Epoch 15/100\n",
      "350/350 [==============================] - 0s 325us/step - loss: 3309.9506 - val_loss: 2905.9489\n",
      "Epoch 16/100\n",
      "350/350 [==============================] - 0s 259us/step - loss: 3271.9893 - val_loss: 2861.1970\n",
      "Epoch 17/100\n",
      "350/350 [==============================] - 0s 275us/step - loss: 3124.0584 - val_loss: 2802.4874\n",
      "Epoch 18/100\n",
      "350/350 [==============================] - 0s 252us/step - loss: 3114.2139 - val_loss: 2744.2499\n",
      "Epoch 19/100\n",
      "350/350 [==============================] - 0s 276us/step - loss: 3073.2249 - val_loss: 2839.6611\n",
      "Epoch 20/100\n",
      "350/350 [==============================] - 0s 256us/step - loss: 3108.3098 - val_loss: 2753.5483\n",
      "Epoch 21/100\n",
      "350/350 [==============================] - 0s 239us/step - loss: 3125.8369 - val_loss: 2760.2524\n",
      "Epoch 22/100\n",
      "350/350 [==============================] - 0s 261us/step - loss: 3091.7944 - val_loss: 2799.4093\n",
      "Epoch 23/100\n",
      "350/350 [==============================] - 0s 276us/step - loss: 3109.1965 - val_loss: 2740.6792\n",
      "Epoch 24/100\n",
      "350/350 [==============================] - 0s 271us/step - loss: 3063.3003 - val_loss: 2871.8971\n",
      "Epoch 25/100\n",
      "350/350 [==============================] - 0s 294us/step - loss: 3084.3645 - val_loss: 2741.0679\n",
      "Epoch 26/100\n",
      "350/350 [==============================] - 0s 378us/step - loss: 3108.9905 - val_loss: 2767.4664\n",
      "Epoch 27/100\n",
      "350/350 [==============================] - 0s 302us/step - loss: 3080.7250 - val_loss: 2825.7039\n",
      "Epoch 28/100\n",
      "350/350 [==============================] - 0s 299us/step - loss: 3091.1897 - val_loss: 2771.1384\n",
      "Restoring model weights from the end of the best epoch\n",
      "Epoch 00028: early stopping\n"
     ]
    }
   ],
   "source": [
    "callbacks = [\n",
    "             EarlyStopping(monitor='val_loss',\n",
    "                           patience=5,\n",
    "                           min_delta=1e-3,\n",
    "                           restore_best_weights=True,\n",
    "                           verbose = 1)\n",
    "            ]\n",
    "\n",
    "\n",
    "batch_size = 64\n",
    "epochs = 100\n",
    "validation_split = 0.3\n",
    "verbose = 1 # Print output\n",
    "\n",
    "# Fit to training Data\n",
    "history = model.fit(x_train,\n",
    "                    y_train,\n",
    "                    batch_size = batch_size,\n",
    "                    epochs = epochs,\n",
    "                    validation_split = validation_split,\n",
    "                    callbacks = callbacks,\n",
    "                    verbose = verbose)"
   ]
  },
  {
   "cell_type": "code",
   "execution_count": 129,
   "metadata": {},
   "outputs": [
    {
     "data": {
      "text/plain": [
       "<matplotlib.legend.Legend at 0x22ddc1980b8>"
      ]
     },
     "execution_count": 129,
     "metadata": {},
     "output_type": "execute_result"
    },
    {
     "data": {
      "image/png": "[encoded data removed]",
      "text/plain": [
       "<Figure size 2160x360 with 1 Axes>"
      ]
     },
     "metadata": {
      "needs_background": "light"
     },
     "output_type": "display_data"
    }
   ],
   "source": [
    "f, ax1 = plt.subplots(1, 1, figsize=(30,5))\n",
    "\n",
    "# summarize history for loss\n",
    "ax1.plot(history.history['loss'], marker='o')\n",
    "ax1.plot(history.history['val_loss'], marker='o')\n",
    "ax1.set_title('Model Loss')\n",
    "ax1.set_ylabel('loss')\n",
    "ax1.set_xlabel('epoch')\n",
    "ax1.legend(['train', 'test'], loc='upper left')"
   ]
  },
  {
   "cell_type": "code",
   "execution_count": 130,
   "metadata": {},
   "outputs": [
    {
     "name": "stdout",
     "output_type": "stream",
     "text": [
      "126/126 [==============================] - 0s 237us/step\n"
     ]
    },
    {
     "data": {
      "text/plain": [
       "1927.2017686631943"
      ]
     },
     "execution_count": 130,
     "metadata": {},
     "output_type": "execute_result"
    }
   ],
   "source": [
    "model.evaluate(x_test, y_test) # MSE of 4723.95"
   ]
  },
  {
   "cell_type": "markdown",
   "metadata": {},
   "source": [
    "# Convolutional Neural Networks"
   ]
  },
  {
   "cell_type": "code",
   "execution_count": 131,
   "metadata": {},
   "outputs": [
    {
     "name": "stdout",
     "output_type": "stream",
     "text": [
      "Model: \"sequential_28\"\n",
      "_________________________________________________________________\n",
      "Layer (type)                 Output Shape              Param #   \n",
      "=================================================================\n",
      "conv1d_10 (Conv1D)           (None, 3, 64)             128       \n",
      "_________________________________________________________________\n",
      "batch_normalization_6 (Batch (None, 3, 64)             256       \n",
      "_________________________________________________________________\n",
      "flatten_7 (Flatten)          (None, 192)               0         \n",
      "_________________________________________________________________\n",
      "dense_19 (Dense)             (None, 64)                12352     \n",
      "_________________________________________________________________\n",
      "dense_20 (Dense)             (None, 1)                 65        \n",
      "=================================================================\n",
      "Total params: 12,801\n",
      "Trainable params: 12,673\n",
      "Non-trainable params: 128\n",
      "_________________________________________________________________\n"
     ]
    }
   ],
   "source": [
    "model = Sequential()\n",
    "model.add(Conv1D(filters=64, kernel_size=1, activation='relu', input_shape=(n_steps, n_features)))\n",
    "model.add(BatchNormalization())\n",
    "model.add(Flatten())\n",
    "model.add(Dense(64, activation='relu'))\n",
    "model.add(Dense(1))\n",
    "model.summary()"
   ]
  },
  {
   "cell_type": "code",
   "execution_count": 132,
   "metadata": {},
   "outputs": [],
   "source": [
    "opt = Adam(learning_rate=0.01,\n",
    "           epsilon=1e-07)\n",
    "\n",
    "model.compile(optimizer=opt,\n",
    "              loss='mse')"
   ]
  },
  {
   "cell_type": "code",
   "execution_count": 133,
   "metadata": {},
   "outputs": [
    {
     "name": "stdout",
     "output_type": "stream",
     "text": [
      "Train on 350 samples, validate on 151 samples\n",
      "Epoch 1/100\n",
      "350/350 [==============================] - 0s 1ms/step - loss: 8262153.2171 - val_loss: 1585320.8957\n",
      "Epoch 2/100\n",
      "350/350 [==============================] - 0s 122us/step - loss: 8128672.6343 - val_loss: 42781.4368\n",
      "Epoch 3/100\n",
      "350/350 [==============================] - 0s 137us/step - loss: 7881754.7857 - val_loss: 4016244.1805\n",
      "Epoch 4/100\n",
      "350/350 [==============================] - 0s 124us/step - loss: 7466656.9857 - val_loss: 17837154.1192\n",
      "Epoch 5/100\n",
      "350/350 [==============================] - 0s 134us/step - loss: 6835812.1200 - val_loss: 54915598.5695\n",
      "Epoch 6/100\n",
      "350/350 [==============================] - 0s 125us/step - loss: 5934171.9229 - val_loss: 126413602.2252\n",
      "Epoch 7/100\n",
      "350/350 [==============================] - 0s 134us/step - loss: 4762381.5700 - val_loss: 241864009.5364\n",
      "Restoring model weights from the end of the best epoch\n",
      "Epoch 00007: early stopping\n"
     ]
    }
   ],
   "source": [
    "callbacks = [\n",
    "             EarlyStopping(monitor='val_loss',\n",
    "                           patience=5,\n",
    "                           min_delta=1e-3,\n",
    "                           restore_best_weights=True,\n",
    "                           verbose = 1)\n",
    "            ]\n",
    "\n",
    "\n",
    "batch_size = 64\n",
    "epochs = 100\n",
    "validation_split = 0.3\n",
    "verbose = 1 # Print output\n",
    "\n",
    "# Fit to training Data\n",
    "history = model.fit(x_train,\n",
    "                    y_train,\n",
    "                    batch_size = batch_size,\n",
    "                    epochs = epochs,\n",
    "                    validation_split = validation_split,\n",
    "                    callbacks = callbacks,\n",
    "                    verbose = verbose)"
   ]
  },
  {
   "cell_type": "code",
   "execution_count": 134,
   "metadata": {},
   "outputs": [
    {
     "data": {
      "text/plain": [
       "<matplotlib.legend.Legend at 0x22de0ffb7f0>"
      ]
     },
     "execution_count": 134,
     "metadata": {},
     "output_type": "execute_result"
    },
    {
     "data": {
      "image/png": "[encoded data removed]",
      "text/plain": [
       "<Figure size 2160x360 with 1 Axes>"
      ]
     },
     "metadata": {
      "needs_background": "light"
     },
     "output_type": "display_data"
    }
   ],
   "source": [
    "f, ax1 = plt.subplots(1, 1, figsize=(30,5))\n",
    "\n",
    "# summarize history for loss\n",
    "ax1.plot(history.history['loss'], marker='o')\n",
    "ax1.plot(history.history['val_loss'], marker='o')\n",
    "ax1.set_title('Model Loss')\n",
    "ax1.set_ylabel('loss')\n",
    "ax1.set_xlabel('epoch')\n",
    "ax1.legend(['train', 'test'], loc='upper left')"
   ]
  },
  {
   "cell_type": "code",
   "execution_count": 135,
   "metadata": {},
   "outputs": [
    {
     "name": "stdout",
     "output_type": "stream",
     "text": [
      "126/126 [==============================] - 0s 95us/step\n"
     ]
    },
    {
     "data": {
      "text/plain": [
       "42500.16393849206"
      ]
     },
     "execution_count": 135,
     "metadata": {},
     "output_type": "execute_result"
    }
   ],
   "source": [
    "model.evaluate(x_test, y_test) # MSE of 4723.95"
   ]
  },
  {
   "cell_type": "markdown",
   "metadata": {},
   "source": [
    "As expected, RNN models such as a LSTM would be much more effective in forecasting time series data / Stock Prices than a Convolutional Neural Network"
   ]
  }
 ],
 "metadata": {
  "kernelspec": {
   "display_name": "Python 3",
   "language": "python",
   "name": "python3"
  },
  "language_info": {
   "codemirror_mode": {
    "name": "ipython",
    "version": 3
   },
   "file_extension": ".py",
   "mimetype": "text/x-python",
   "name": "python",
   "nbconvert_exporter": "python",
   "pygments_lexer": "ipython3",
   "version": "3.6.4"
  }
 },
 "nbformat": 4,
 "nbformat_minor": 2
}
